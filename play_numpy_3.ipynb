{
 "cells": [
  {
   "cell_type": "code",
   "execution_count": 11,
   "metadata": {},
   "outputs": [],
   "source": [
    "import numpy as np\n",
    "import numpy.random as rd"
   ]
  },
  {
   "cell_type": "code",
   "execution_count": 10,
   "metadata": {},
   "outputs": [
    {
     "name": "stdout",
     "output_type": "stream",
     "text": [
      "[0. 0. 0. 0. 0. 0. 0. 0. 0. 0.]\n",
      "[1. 1. 1. 1. 1. 1. 1. 1. 1. 1. 1. 1. 1. 1. 1. 1. 1. 1. 1. 1.]\n",
      "[20 21 22 23 24 25 26 27 28 29 30 31 32 33 34 35 36 37 38 39 40]\n",
      "[[0. 0. 0.]\n",
      " [0. 0. 0.]\n",
      " [0. 0. 0.]]\n",
      "[[1 2 3]\n",
      " [4 5 6]\n",
      " [7 8 9]]\n"
     ]
    }
   ],
   "source": [
    "print(np.zeros(10))\n",
    "print(np.ones(20))\n",
    "print(np.arange(20, 41))\n",
    "print(np.zeros((3,3)))\n",
    "print(np.arange(1, 10).reshape(3,3))"
   ]
  },
  {
   "cell_type": "code",
   "execution_count": 25,
   "metadata": {},
   "outputs": [
    {
     "name": "stdout",
     "output_type": "stream",
     "text": [
      "[[-0.49392465  0.38317298 -0.51902875]\n",
      " [ 2.78345598 -1.18049056  0.06098588]\n",
      " [-0.1659271  -0.99839011 -0.61908663]]\n",
      "[[ 0.79161692 -0.64780561  1.27020133]\n",
      " [ 0.67370087  1.14276958  0.69687868]\n",
      " [-0.76941632  0.15862532  1.73482159]]\n"
     ]
    }
   ],
   "source": [
    "print(rd.randn(3, 3))\n",
    "print(rd.standard_normal((3, 3)))"
   ]
  },
  {
   "cell_type": "code",
   "execution_count": 30,
   "metadata": {},
   "outputs": [
    {
     "name": "stdout",
     "output_type": "stream",
     "text": [
      "[[1. 0. 0.]\n",
      " [0. 1. 0.]\n",
      " [0. 0. 1.]]\n",
      "[[1. 0. 0.]\n",
      " [0. 1. 0.]\n",
      " [0. 0. 1.]]\n",
      "[[0. 1. 0.]\n",
      " [0. 0. 1.]\n",
      " [0. 0. 0.]]\n",
      "[[0. 0. 0.]\n",
      " [1. 0. 0.]\n",
      " [0. 1. 0.]]\n"
     ]
    }
   ],
   "source": [
    "print(np.identity(3))\n",
    "print(np.eye(3, k=0))\n",
    "print(np.eye(3, k=1))\n",
    "print(np.eye(3, k=-1))"
   ]
  },
  {
   "cell_type": "code",
   "execution_count": 31,
   "metadata": {},
   "outputs": [
    {
     "name": "stdout",
     "output_type": "stream",
     "text": [
      "[[3 4]\n",
      " [2 3]]\n",
      "[[5 3]\n",
      " [1 4]]\n"
     ]
    }
   ],
   "source": [
    "n1 = np.array([\n",
    "    [3, 4],\n",
    "    [2, 3]\n",
    "], dtype=np.int16)\n",
    "n2 = np.array([\n",
    "    [5, 3],\n",
    "    [1, 4]\n",
    "], dtype=np.int16)\n",
    "\n",
    "print(n1)\n",
    "print(n2)"
   ]
  },
  {
   "cell_type": "code",
   "execution_count": 36,
   "metadata": {},
   "outputs": [
    {
     "name": "stdout",
     "output_type": "stream",
     "text": [
      "[[8 7]\n",
      " [3 7]]\n",
      "[[-2  1]\n",
      " [ 1 -1]]\n",
      "[[15 12]\n",
      " [ 2 12]]\n",
      "[[19 25]\n",
      " [13 18]]\n"
     ]
    }
   ],
   "source": [
    "print(n1 + n2)\n",
    "print(n1 - n2)\n",
    "print(n1 * n2) # this is not matrix multiplication\n",
    "print(n1.dot(n2)) # this is matrix multiplication"
   ]
  }
 ],
 "metadata": {
  "kernelspec": {
   "display_name": "Python 3",
   "language": "python",
   "name": "python3"
  },
  "language_info": {
   "codemirror_mode": {
    "name": "ipython",
    "version": 3
   },
   "file_extension": ".py",
   "mimetype": "text/x-python",
   "name": "python",
   "nbconvert_exporter": "python",
   "pygments_lexer": "ipython3",
   "version": "3.7.4"
  }
 },
 "nbformat": 4,
 "nbformat_minor": 2
}
