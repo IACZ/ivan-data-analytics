{
 "cells": [
  {
   "cell_type": "code",
   "execution_count": 4,
   "metadata": {},
   "outputs": [],
   "source": [
    "import pandas as pd\n",
    "from pandas import Series\n",
    "import numpy as np"
   ]
  },
  {
   "cell_type": "code",
   "execution_count": 3,
   "metadata": {},
   "outputs": [],
   "source": [
    "# Series\n",
    "# 1 dimensional data\n",
    "# Where index and value, both are under ur control\n",
    "# No matter what slicing, transformation, dicing u do on the data, the relationship between the index - value will\n",
    "# always be maintained"
   ]
  },
  {
   "cell_type": "code",
   "execution_count": 5,
   "metadata": {},
   "outputs": [
    {
     "name": "stdout",
     "output_type": "stream",
     "text": [
      "0    10\n",
      "1     4\n",
      "2     5\n",
      "3    10\n",
      "4     1\n",
      "5     3\n",
      "6    10\n",
      "7     7\n",
      "8     5\n",
      "9     9\n",
      "dtype: int16\n",
      "<class 'pandas.core.series.Series'>\n"
     ]
    }
   ],
   "source": [
    "s1 = Series([10, 4, 5, 10, 1, 3, 10, 7, 5, 9], dtype=np.int16)\n",
    "print(s1)\n",
    "print(type(s1))"
   ]
  },
  {
   "cell_type": "code",
   "execution_count": 15,
   "metadata": {},
   "outputs": [
    {
     "name": "stdout",
     "output_type": "stream",
     "text": [
      "4     10\n",
      "2      9\n",
      "10    10\n",
      "6      4\n",
      "7      5\n",
      "9      1\n",
      "dtype: int16\n",
      "Int64Index([4, 2, 10, 6, 7, 9], dtype='int64')\n",
      "[10  9 10  4  5  1]\n"
     ]
    }
   ],
   "source": [
    "s2 = Series([10, 9, 10, 4, 5, 1], index=[4, 2, 10, 6, 7, 9], dtype=np.int16)\n",
    "print(s2)\n",
    "print(s2.index)\n",
    "print(s2.values)"
   ]
  },
  {
   "cell_type": "code",
   "execution_count": 13,
   "metadata": {},
   "outputs": [
    {
     "name": "stdout",
     "output_type": "stream",
     "text": [
      "4\n",
      "1\n",
      "10    10\n",
      "7      5\n",
      "2      9\n",
      "dtype: int16\n",
      "5\n",
      "10\n",
      "4    10\n",
      "9     1\n",
      "dtype: int16\n"
     ]
    }
   ],
   "source": [
    "# indexing\n",
    "print(s2.loc[6])\n",
    "print(s2.loc[9])\n",
    "print(s2.loc[[10, 7, 2]])\n",
    "print(s2.iloc[-2]) # Series internally also maintains 0 based indexing like a single dimensional numpy array\n",
    "print(s2.iloc[0])\n",
    "print(s2.iloc[[0, -1]])"
   ]
  },
  {
   "cell_type": "code",
   "execution_count": 22,
   "metadata": {},
   "outputs": [
    {
     "name": "stdout",
     "output_type": "stream",
     "text": [
      "4     10\n",
      "2      9\n",
      "10    10\n",
      "6      4\n",
      "7      5\n",
      "9      1\n",
      "dtype: int16\n",
      "4     10\n",
      "2      9\n",
      "10    10\n",
      "dtype: int16\n",
      "4     10\n",
      "2      9\n",
      "10    10\n",
      "dtype: int16\n",
      "6    4\n",
      "7    5\n",
      "9    1\n",
      "dtype: int16\n"
     ]
    }
   ],
   "source": [
    "# slicing\n",
    "print(s2)\n",
    "print(s2.iloc[:3]) # internal index level slicing is preferred\n",
    "print(s2.loc[4:10]) # usually not preferred\n",
    "print(s2.iloc[-3:])"
   ]
  },
  {
   "cell_type": "code",
   "execution_count": 31,
   "metadata": {},
   "outputs": [
    {
     "name": "stdout",
     "output_type": "stream",
     "text": [
      "4     10\n",
      "2      9\n",
      "10    10\n",
      "6      4\n",
      "7      5\n",
      "9      1\n",
      "dtype: int16\n",
      "4     10\n",
      "2      9\n",
      "10    10\n",
      "dtype: int16\n",
      "4     10\n",
      "2      9\n",
      "10    10\n",
      "9      1\n",
      "dtype: int16\n"
     ]
    }
   ],
   "source": [
    "# filtering\n",
    "print(s2)\n",
    "print(s2[s2 > 5])\n",
    "print(s2[(s2 > 5) | (s2 == 1)])"
   ]
  },
  {
   "cell_type": "code",
   "execution_count": 42,
   "metadata": {},
   "outputs": [
    {
     "name": "stdout",
     "output_type": "stream",
     "text": [
      "4     10\n",
      "2      9\n",
      "10    10\n",
      "6      4\n",
      "7      5\n",
      "9      1\n",
      "dtype: int16\n",
      "10\n",
      "1\n",
      "6.5\n",
      "7.0\n",
      "0    10\n",
      "dtype: int16\n",
      "3.7282703764614498\n",
      "13.9\n",
      "39\n",
      "4     10\n",
      "2     19\n",
      "10    29\n",
      "6     33\n",
      "7     38\n",
      "9     39\n",
      "dtype: int64\n",
      "mean     6.5\n",
      "max     10.0\n",
      "dtype: float64\n"
     ]
    }
   ],
   "source": [
    "print(s2)\n",
    "print(s2.max())\n",
    "print(s2.min())\n",
    "print(s2.mean())\n",
    "print(s2.median())\n",
    "print(s2.mode())\n",
    "print(s2.std())\n",
    "print(s2.var())\n",
    "print(s2.sum())\n",
    "print(s2.cumsum())\n",
    "ss = s2.describe()\n",
    "print(ss[['mean', 'max']])"
   ]
  },
  {
   "cell_type": "code",
   "execution_count": 44,
   "metadata": {},
   "outputs": [
    {
     "name": "stdout",
     "output_type": "stream",
     "text": [
      "4     10\n",
      "2      9\n",
      "10    10\n",
      "6      4\n",
      "7      5\n",
      "9      1\n",
      "dtype: int16\n",
      "10    2\n",
      "5     1\n",
      "4     1\n",
      "1     1\n",
      "9     1\n",
      "dtype: int64\n"
     ]
    }
   ],
   "source": [
    "print(s2)\n",
    "# count distinct problem\n",
    "# get the distinct pointers scored along with the frequency\n",
    "print(s2.value_counts())"
   ]
  },
  {
   "cell_type": "code",
   "execution_count": 49,
   "metadata": {},
   "outputs": [
    {
     "name": "stdout",
     "output_type": "stream",
     "text": [
      "4     10\n",
      "2      9\n",
      "10    10\n",
      "6      4\n",
      "7      5\n",
      "9      1\n",
      "dtype: int16\n",
      "10    10\n",
      "4     10\n",
      "2      9\n",
      "7      5\n",
      "6      4\n",
      "9      1\n",
      "dtype: int16\n",
      "2      9\n",
      "4     10\n",
      "6      4\n",
      "7      5\n",
      "9      1\n",
      "10    10\n",
      "dtype: int16\n"
     ]
    }
   ],
   "source": [
    "print(s2)\n",
    "print(s2.sort_values(ascending=False))\n",
    "print(s2.sort_index())"
   ]
  },
  {
   "cell_type": "code",
   "execution_count": 55,
   "metadata": {},
   "outputs": [
    {
     "name": "stdout",
     "output_type": "stream",
     "text": [
      "4     10.0\n",
      "2      9.0\n",
      "10    10.0\n",
      "6      4.0\n",
      "7      NaN\n",
      "9      1.0\n",
      "dtype: float64\n",
      "4     10.0\n",
      "2      9.0\n",
      "10    10.0\n",
      "6      4.0\n",
      "9      1.0\n",
      "dtype: float64\n",
      "4     10.0\n",
      "2      9.0\n",
      "10    10.0\n",
      "6      4.0\n",
      "7      0.0\n",
      "9      1.0\n",
      "dtype: float64\n"
     ]
    }
   ],
   "source": [
    "s3 = Series([10, 9, 10, 4, None, 1], index=[4, 2, 10, 6, 7, 9])\n",
    "print(s3)\n",
    "s4 = s3.dropna()\n",
    "print(s4)\n",
    "\n",
    "s5 = s3.fillna(0)\n",
    "print(s5)"
   ]
  }
 ],
 "metadata": {
  "kernelspec": {
   "display_name": "Python 3",
   "language": "python",
   "name": "python3"
  },
  "language_info": {
   "codemirror_mode": {
    "name": "ipython",
    "version": 3
   },
   "file_extension": ".py",
   "mimetype": "text/x-python",
   "name": "python",
   "nbconvert_exporter": "python",
   "pygments_lexer": "ipython3",
   "version": "3.7.4"
  }
 },
 "nbformat": 4,
 "nbformat_minor": 2
}
