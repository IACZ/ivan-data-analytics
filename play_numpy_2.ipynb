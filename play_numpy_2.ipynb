{
 "cells": [
  {
   "cell_type": "code",
   "execution_count": 1,
   "metadata": {},
   "outputs": [],
   "source": [
    "import numpy as np"
   ]
  },
  {
   "cell_type": "code",
   "execution_count": 2,
   "metadata": {},
   "outputs": [],
   "source": [
    "marks = [\n",
    "    [5, 6, 10],\n",
    "    [10, 4, 2],\n",
    "    [7, 10, 1]\n",
    "]"
   ]
  },
  {
   "cell_type": "code",
   "execution_count": 3,
   "metadata": {},
   "outputs": [
    {
     "name": "stdout",
     "output_type": "stream",
     "text": [
      "<class 'numpy.ndarray'>\n",
      "[[ 5  6 10]\n",
      " [10  4  2]\n",
      " [ 7 10  1]]\n",
      "2\n",
      "(3, 3)\n",
      "int16\n"
     ]
    }
   ],
   "source": [
    "n1 = np.array(marks, dtype=np.int16)\n",
    "print(type(n1))\n",
    "print(n1)\n",
    "print(n1.ndim)\n",
    "print(n1.shape)\n",
    "print(n1.dtype)"
   ]
  },
  {
   "cell_type": "code",
   "execution_count": null,
   "metadata": {},
   "outputs": [],
   "source": []
  }
 ],
 "metadata": {
  "kernelspec": {
   "display_name": "Python 3",
   "language": "python",
   "name": "python3"
  },
  "language_info": {
   "codemirror_mode": {
    "name": "ipython",
    "version": 3
   },
   "file_extension": ".py",
   "mimetype": "text/x-python",
   "name": "python",
   "nbconvert_exporter": "python",
   "pygments_lexer": "ipython3",
   "version": "3.7.4"
  }
 },
 "nbformat": 4,
 "nbformat_minor": 2
}
