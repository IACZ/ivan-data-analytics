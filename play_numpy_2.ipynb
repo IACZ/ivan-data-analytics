{
 "cells": [
  {
   "cell_type": "code",
   "execution_count": 25,
   "metadata": {},
   "outputs": [],
   "source": [
    "import numpy as np"
   ]
  },
  {
   "cell_type": "code",
   "execution_count": 26,
   "metadata": {},
   "outputs": [],
   "source": [
    "marks = [\n",
    "    [5, 6, 10],\n",
    "    [10, 4, 2],\n",
    "    [7, 10, 1]\n",
    "]"
   ]
  },
  {
   "cell_type": "code",
   "execution_count": 27,
   "metadata": {},
   "outputs": [
    {
     "name": "stdout",
     "output_type": "stream",
     "text": [
      "<class 'numpy.ndarray'>\n",
      "[[ 5  6 10]\n",
      " [10  4  2]\n",
      " [ 7 10  1]]\n",
      "2\n",
      "(3, 3)\n",
      "int16\n"
     ]
    }
   ],
   "source": [
    "n1 = np.array(marks, dtype=np.int16)\n",
    "print(type(n1))\n",
    "print(n1)\n",
    "print(n1.ndim)\n",
    "print(n1.shape)\n",
    "print(n1.dtype)"
   ]
  },
  {
   "cell_type": "code",
   "execution_count": 28,
   "metadata": {},
   "outputs": [
    {
     "name": "stdout",
     "output_type": "stream",
     "text": [
      "[ 5  6 10]\n",
      "<class 'numpy.ndarray'>\n",
      "[ 7 10  1]\n",
      "2\n",
      "2\n",
      "[[ 5  6 10]\n",
      " [ 7 10  1]]\n"
     ]
    }
   ],
   "source": [
    "# indexing\n",
    "c1 = n1[0]\n",
    "print(c1)\n",
    "print(type(c1))\n",
    "print(n1[-1])\n",
    "print(n1[1][-1]) # traditional python indexing is not optimal\n",
    "print(n1[1,-1]) # this is more optimal than the above\n",
    "print(n1[[0, -1]]) # multiple indexing"
   ]
  },
  {
   "cell_type": "code",
   "execution_count": 29,
   "metadata": {},
   "outputs": [
    {
     "name": "stdout",
     "output_type": "stream",
     "text": [
      "[[ 5  6 10]\n",
      " [10  4  2]\n",
      " [ 7 10  1]]\n",
      "[[ 5  6 10]\n",
      " [10  4  2]]\n",
      "[[ 5  6 10]\n",
      " [10  4  2]]\n",
      "[[10  4  2]\n",
      " [ 7 10  1]]\n",
      "[[ 6 10]\n",
      " [ 4  2]]\n",
      "[[10  4]\n",
      " [ 7 10]]\n"
     ]
    }
   ],
   "source": [
    "# slicing\n",
    "print(n1)\n",
    "print(n1[[0,1]])\n",
    "print(n1[:2]) # slicing to achive what indexing was doing above\n",
    "print(n1[-2:]) # last 2 divisions in the class std\n",
    "print(n1[:2, -2:]) # slice along the rows and then across the columns\n",
    "print(n1[-2:, :2])"
   ]
  },
  {
   "cell_type": "code",
   "execution_count": 30,
   "metadata": {},
   "outputs": [
    {
     "name": "stdout",
     "output_type": "stream",
     "text": [
      "[[ 5  6 10]\n",
      " [10  4  2]\n",
      " [ 7 10  1]]\n",
      "[[ 5 10]\n",
      " [10  2]]\n",
      "[[ 6 10]\n",
      " [10  1]]\n"
     ]
    }
   ],
   "source": [
    "# slicing + indexing\n",
    "print(n1)\n",
    "print(n1[:2, [0, -1]])\n",
    "print(n1[[0, -1], -2:])"
   ]
  },
  {
   "cell_type": "code",
   "execution_count": 31,
   "metadata": {},
   "outputs": [
    {
     "name": "stdout",
     "output_type": "stream",
     "text": [
      "[[ 5  6 10]\n",
      " [10  4  2]\n",
      " [ 7 10  1]]\n",
      "[[ 4  5  9]\n",
      " [10  4  2]\n",
      " [ 6  9  0]]\n"
     ]
    }
   ],
   "source": [
    "print(n1)\n",
    "n2 = n1.copy()\n",
    "# deduct marks by 1 for students from first and last division\n",
    "n2[[0, -1]] -= 1\n",
    "print(n2)"
   ]
  },
  {
   "cell_type": "code",
   "execution_count": 33,
   "metadata": {},
   "outputs": [
    {
     "name": "stdout",
     "output_type": "stream",
     "text": [
      "[[ 5  6 10]\n",
      " [10  4  2]\n",
      " [ 7 10  1]]\n",
      "[[4 5 9]\n",
      " [8 2 0]\n",
      " [6 9 0]]\n"
     ]
    }
   ],
   "source": [
    "print(n1)\n",
    "n3 = n1.copy()\n",
    "n3 -= [\n",
    "    [1],\n",
    "    [2],\n",
    "    [1]\n",
    "]\n",
    "print(n3)"
   ]
  },
  {
   "cell_type": "code",
   "execution_count": 35,
   "metadata": {},
   "outputs": [
    {
     "name": "stdout",
     "output_type": "stream",
     "text": [
      "[[ 5  6 10]\n",
      " [10  4  2]\n",
      " [ 7 10  1]]\n",
      "[[ 4  6  9]\n",
      " [ 9  4  1]\n",
      " [ 6 10  0]]\n"
     ]
    }
   ],
   "source": [
    "print(n1)\n",
    "n4 = n1.copy()\n",
    "n4 -= [1, 0, 1]\n",
    "print(n4)"
   ]
  },
  {
   "cell_type": "code",
   "execution_count": 37,
   "metadata": {},
   "outputs": [
    {
     "name": "stdout",
     "output_type": "stream",
     "text": [
      "[[ 5  6 10]\n",
      " [10  4  2]\n",
      " [ 7 10  1]]\n",
      "[[0 0 1]\n",
      " [1 0 0]\n",
      " [1 1 0]]\n"
     ]
    }
   ],
   "source": [
    "print(n1)\n",
    "n10 = np.where(n1 > 6, 1, 0)\n",
    "print(n10)"
   ]
  }
 ],
 "metadata": {
  "kernelspec": {
   "display_name": "Python 3",
   "language": "python",
   "name": "python3"
  },
  "language_info": {
   "codemirror_mode": {
    "name": "ipython",
    "version": 3
   },
   "file_extension": ".py",
   "mimetype": "text/x-python",
   "name": "python",
   "nbconvert_exporter": "python",
   "pygments_lexer": "ipython3",
   "version": "3.7.4"
  }
 },
 "nbformat": 4,
 "nbformat_minor": 2
}
