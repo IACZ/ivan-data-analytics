{
 "cells": [
  {
   "cell_type": "code",
   "execution_count": 1,
   "metadata": {},
   "outputs": [],
   "source": [
    "import numpy as np"
   ]
  },
  {
   "cell_type": "code",
   "execution_count": 2,
   "metadata": {},
   "outputs": [],
   "source": [
    "pointers = [5, 6, 10, 10, 1, 4, 3, 7, 9, 10, 1]"
   ]
  },
  {
   "cell_type": "code",
   "execution_count": 7,
   "metadata": {},
   "outputs": [
    {
     "name": "stdout",
     "output_type": "stream",
     "text": [
      "<class 'numpy.ndarray'>\n",
      "[ 5  6 10 10  1  4  3  7  9 10  1]\n",
      "1\n",
      "(11,)\n",
      "int16\n"
     ]
    }
   ],
   "source": [
    "# numpy array\n",
    "n1 = np.array(pointers, dtype=np.int16)\n",
    "print(type(n1))\n",
    "print(n1)\n",
    "print(n1.ndim)\n",
    "print(n1.shape)\n",
    "print(n1.dtype)"
   ]
  },
  {
   "cell_type": "code",
   "execution_count": 10,
   "metadata": {},
   "outputs": [
    {
     "name": "stdout",
     "output_type": "stream",
     "text": [
      "[4 5 9 9 0 3 2 6 8 9 0]\n",
      "<class 'numpy.ndarray'>\n"
     ]
    }
   ],
   "source": [
    "# a new list of pointers deducted by 1\n",
    "n2 = n1 - 1\n",
    "print(n2)\n",
    "print(type(n2))\n",
    "# Vectorized operations\n",
    "# All arithmetic operators on numpy array object are vectorized"
   ]
  },
  {
   "cell_type": "code",
   "execution_count": 16,
   "metadata": {},
   "outputs": [
    {
     "name": "stdout",
     "output_type": "stream",
     "text": [
      "5\n",
      "6\n",
      "1\n",
      "10\n",
      "[ 5 10]\n"
     ]
    }
   ],
   "source": [
    "# indexing\n",
    "print(n1[0])\n",
    "print(n1[1])\n",
    "print(n1[-1])\n",
    "print(n1[-2])\n",
    "\n",
    "# multiple indexing\n",
    "print(n1[[0, -2]])"
   ]
  },
  {
   "cell_type": "code",
   "execution_count": 21,
   "metadata": {},
   "outputs": [
    {
     "name": "stdout",
     "output_type": "stream",
     "text": [
      "[ 5  6 10 10  1  4  3  7  9 10  1]\n",
      "[ 5  6 10]\n",
      "[ 7  9 10  1]\n"
     ]
    }
   ],
   "source": [
    "# slicing\n",
    "print(n1)\n",
    "print(n1[:3])\n",
    "print(n1[-4:])"
   ]
  },
  {
   "cell_type": "code",
   "execution_count": 18,
   "metadata": {},
   "outputs": [
    {
     "name": "stdout",
     "output_type": "stream",
     "text": [
      "[False  True  True  True False False False  True  True  True False]\n",
      "<class 'numpy.ndarray'>\n",
      "[ 6 10 10  7  9 10]\n",
      "[10 10 10]\n"
     ]
    }
   ],
   "source": [
    "# a new list of people who have scrore more than 5 pointer\n",
    "n3 = n1 > 5\n",
    "print(n3)\n",
    "print(type(n3))\n",
    "# Relational operators on numpy array are vectorized\n",
    "\n",
    "n4 = n1[n1 > 5]\n",
    "print(n4)\n",
    "\n",
    "n5 = n1[n1 == 10]\n",
    "print(n5)"
   ]
  },
  {
   "cell_type": "code",
   "execution_count": 23,
   "metadata": {},
   "outputs": [
    {
     "name": "stdout",
     "output_type": "stream",
     "text": [
      "[ 5  6 10 10  1  4  3  7  9 10  1]\n",
      "1\n",
      "10\n",
      "6.0\n",
      "[ 5 11 21 31 32 36 39 46 55 65 66]\n",
      "3.330301651638946\n",
      "11.090909090909092\n"
     ]
    }
   ],
   "source": [
    "# Mathematical functions\n",
    "print(n1)\n",
    "print(n1.min())\n",
    "print(n1.max())\n",
    "print(n1.mean())\n",
    "print(n1.cumsum())\n",
    "print(n1.std())\n",
    "print(n1.var())"
   ]
  },
  {
   "cell_type": "code",
   "execution_count": 26,
   "metadata": {},
   "outputs": [
    {
     "name": "stdout",
     "output_type": "stream",
     "text": [
      "[ 1  1  3  4  5  6  7  9 10 10 10]\n",
      "None\n",
      "[ 1  1  3  4  5  6  7  9 10 10 10]\n"
     ]
    }
   ],
   "source": [
    "print(n1)\n",
    "print(n1.sort())\n",
    "print(n1)"
   ]
  },
  {
   "cell_type": "code",
   "execution_count": 31,
   "metadata": {},
   "outputs": [
    {
     "name": "stdout",
     "output_type": "stream",
     "text": [
      "[ 5  6 10 10  1  4  3  7  9 10  1]\n",
      "[ 5  6 10 10  1  4  3  7  9 10  2]\n",
      "[ 7  6 10 10  1  4  3  7  9  9  2]\n",
      "[ 0  0  0 10  1  4  3  7  9  9  2]\n"
     ]
    }
   ],
   "source": [
    "n20 = np.array(pointers, dtype=np.int16)\n",
    "print(n20)\n",
    "n20[-1] = 2\n",
    "print(n20)\n",
    "n20[[0, -2]] = [7, 9]\n",
    "print(n20)\n",
    "\n",
    "n20[:3] = 0 # broadcasting\n",
    "print(n20)"
   ]
  }
 ],
 "metadata": {
  "kernelspec": {
   "display_name": "Python 3",
   "language": "python",
   "name": "python3"
  },
  "language_info": {
   "codemirror_mode": {
    "name": "ipython",
    "version": 3
   },
   "file_extension": ".py",
   "mimetype": "text/x-python",
   "name": "python",
   "nbconvert_exporter": "python",
   "pygments_lexer": "ipython3",
   "version": "3.7.4"
  }
 },
 "nbformat": 4,
 "nbformat_minor": 2
}
